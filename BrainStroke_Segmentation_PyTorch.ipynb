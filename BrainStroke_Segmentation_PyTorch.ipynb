{
 "cells": [
  {
   "cell_type": "markdown",
   "id": "84409d59",
   "metadata": {},
   "source": [
    "# Segmentation model  for analyzing brain MRI data using a segmentation model for ischemic stroke.\n",
    "The model is trained on a data set of 250 head MRIs labeled with ischemic stroke.\n"
   ]
  },
  {
   "cell_type": "code",
   "execution_count": 1,
   "id": "59c03030",
   "metadata": {},
   "outputs": [],
   "source": [
    "import nibabel as nib\n",
    "import scipy\n",
    "import napari\n",
    "import numpy as np\n",
    "import os\n",
    "from matplotlib import pyplot as plt\n",
    "from torch.utils.data import Dataset, DataLoader, SubsetRandomSampler\n",
    "import torch\n",
    "import random\n",
    "import torch.nn as nn\n",
    "from torchvision import transforms\n",
    "import segmentation_models_pytorch as smp\n",
    "import time"
   ]
  },
  {
   "cell_type": "markdown",
   "id": "1577d47a",
   "metadata": {},
   "source": [
    "# 1. Custom PyTroch dataset for training data"
   ]
  },
  {
   "cell_type": "code",
   "execution_count": 34,
   "id": "aaeaa55b",
   "metadata": {},
   "outputs": [],
   "source": [
    "class ISLES_dataset(Dataset):\n",
    "    def __init__(self, dataset_dir, transform=None):\n",
    "        self.dataset_dir = dataset_dir\n",
    "        self.transform = transform\n",
    "        self.image_layers = []\n",
    "        self.mask_layers = []\n",
    "        for example_case in range(1, 220):\n",
    "            # images paths\n",
    "            dwi_path = os.path.join(dataset_dir, 'rawdata', 'sub-strokecase{}'.format('%04d' %example_case), 'ses-0001','dwi',\n",
    "                                   'sub-strokecase{}_ses-0001_dwi.nii.gz'.format(\"%04d\" % example_case))\n",
    "            dwi_path = self.make_path_right(dwi_path)\n",
    "            mask_path = dwi_path.replace('rawdata', 'derivatives').replace('dwi', 'msk').replace('msk', '', 1)\n",
    "            dwi_image = nib.load(dwi_path).get_fdata().transpose(2, 0, 1)\n",
    "            mask_image = nib.load(mask_path).get_fdata().transpose(2, 0, 1)\n",
    "            self.image_layers.extend(dwi_image)\n",
    "            self.mask_layers.extend(mask_image)\n",
    "            \n",
    "    @staticmethod\n",
    "    def make_path_right(path):\n",
    "        path = path.replace('\\\\','/')\n",
    "        return path\n",
    "    \n",
    "    @staticmethod\n",
    "    def NormalizeTensor(data):\n",
    "        diff = torch.max(data) - torch.min(data)\n",
    "        if diff==0:\n",
    "            return torch.zeros_like(data)\n",
    "        return (data - torch.min(data)) / (torch.max(data) - torch.min(data))\n",
    "    \n",
    "    # augmentation, torchvision.transform doesn't work well on custom segmentation dataset\n",
    "    def apply_transform(self, image, mask):\n",
    "        \n",
    "        # Transform to tensor\n",
    "        image = transforms.functional.to_tensor(image)\n",
    "        mask = transforms.functional.to_tensor(mask)\n",
    "    \n",
    "        # Resize\n",
    "        resize = transforms.Resize(size=(128, 128), antialias=None)\n",
    "        image = resize(image)\n",
    "        mask = resize(mask)\n",
    "\n",
    "\n",
    "        # Random horizontal flipping\n",
    "        if random.random() > 0.5:\n",
    "            image = transforms.functional.hflip(image)\n",
    "            mask = transforms.functional.hflip(mask)\n",
    "\n",
    "        # Random vertical flipping\n",
    "        if random.random() > 0.5:\n",
    "            image = transforms.functional.vflip(image)\n",
    "            mask = transforms.functional.vflip(mask)\n",
    "\n",
    "        # Random rotation\n",
    "        degrees = [0, 90, 180, 270]\n",
    "        angle = random.choice(degrees)\n",
    "        image = transforms.functional.rotate(image, angle)\n",
    "        mask = transforms.functional.rotate(mask, angle)\n",
    "        \n",
    "        return image, mask\n",
    "        \n",
    "    def __len__(self):\n",
    "        return len(self.mask_layers)\n",
    "    \n",
    "    def __getitem__(self, idx):\n",
    "        \n",
    "        image_layer = self.image_layers[idx]\n",
    "        mask_layer = self.mask_layers[idx]\n",
    "        \n",
    "        image_layer, mask_layer = self.apply_transform(image_layer, mask_layer)\n",
    "        image_layer = self.NormalizeTensor(image_layer)\n",
    "        \n",
    "        \n",
    "        return image_layer, mask_layer\n",
    "        \n",
    "            \n"
   ]
  },
  {
   "cell_type": "code",
   "execution_count": 35,
   "id": "e809dc8e",
   "metadata": {},
   "outputs": [],
   "source": [
    "dataset = ISLES_dataset('ISLES-2022/')"
   ]
  },
  {
   "cell_type": "code",
   "execution_count": 36,
   "id": "3af1b662",
   "metadata": {},
   "outputs": [],
   "source": [
    "train_loader = DataLoader(dataset, batch_size=1)"
   ]
  },
  {
   "cell_type": "markdown",
   "id": "25b03104",
   "metadata": {},
   "source": [
    "# Custom PyTorch dataset for validation data"
   ]
  },
  {
   "cell_type": "code",
   "execution_count": 51,
   "id": "35f54bea",
   "metadata": {},
   "outputs": [],
   "source": [
    "class ISLES_dataset_valid(Dataset):\n",
    "    def __init__(self, dataset_dir, transform=None):\n",
    "        self.dataset_dir = dataset_dir\n",
    "        self.transform = transform\n",
    "        self.image_layers = []\n",
    "        self.mask_layers = []\n",
    "        for example_case in range(221, 251):\n",
    "            # images paths\n",
    "            dwi_path = os.path.join(dataset_dir, 'rawdata', 'sub-strokecase{}'.format('%04d' %example_case), 'ses-0001','dwi',\n",
    "                                   'sub-strokecase{}_ses-0001_dwi.nii.gz'.format(\"%04d\" % example_case))\n",
    "            dwi_path = self.make_path_right(dwi_path)\n",
    "  \n",
    "            mask_path = dwi_path.replace('rawdata', 'derivatives').replace('dwi', 'msk').replace('msk', '', 1)\n",
    "            dwi_image = nib.load(dwi_path).get_fdata().transpose(2, 0, 1)\n",
    "            mask_image = nib.load(mask_path).get_fdata().transpose(2, 0, 1)\n",
    "            self.image_layers.extend(dwi_image)\n",
    "            self.mask_layers.extend(mask_image)\n",
    "            \n",
    "    @staticmethod\n",
    "    def make_path_right(path):\n",
    "        path = path.replace('\\\\','/')\n",
    "        return path\n",
    "    \n",
    "    @staticmethod\n",
    "    def NormalizeTensor(data):\n",
    "        diff = torch.max(data) - torch.min(data)\n",
    "        if diff==0:\n",
    "            return torch.zeros_like(data)\n",
    "        return (data - torch.min(data)) / (torch.max(data) - torch.min(data))\n",
    "    \n",
    "    def apply_transform(self, image, mask):\n",
    "        \n",
    "        # Transform to tensor\n",
    "        image = transforms.functional.to_tensor(image)\n",
    "        mask = transforms.functional.to_tensor(mask)\n",
    "        \n",
    "        # Resize\n",
    "        resize = transforms.Resize(size=(128, 128), antialias=None)\n",
    "        image = resize(image)\n",
    "        mask = resize(mask)\n",
    "\n",
    "        # Random horizontal flipping\n",
    "        if random.random() > 0.5:\n",
    "            image = transforms.functional.hflip(image)\n",
    "            mask = transforms.functional.hflip(mask)\n",
    "\n",
    "        # Random vertical flipping\n",
    "        if random.random() > 0.5:\n",
    "            image = transforms.functional.vflip(image)\n",
    "            mask = transforms.functional.vflip(mask)\n",
    "\n",
    "        # Random rotation\n",
    "        degrees = [0, 90, 180, 270]\n",
    "        angle = random.choice(degrees)\n",
    "        image = transforms.functional.rotate(image, angle)\n",
    "        mask = transforms.functional.rotate(mask, angle)\n",
    "        \n",
    "        return image, mask\n",
    "        \n",
    "    def __len__(self):\n",
    "        return len(self.mask_layers)\n",
    "    \n",
    "    def __getitem__(self, idx):\n",
    "        \n",
    "        image_layer = self.image_layers[idx]\n",
    "        mask_layer = self.mask_layers[idx]\n",
    "        \n",
    "        image_layer, mask_layer = self.apply_transform(image_layer, mask_layer)\n",
    "        image_layer = self.NormalizeTensor(image_layer)\n",
    "        \n",
    "        \n",
    "        return image_layer, mask_layer\n",
    "        "
   ]
  },
  {
   "cell_type": "code",
   "execution_count": 52,
   "id": "e429ed6a",
   "metadata": {},
   "outputs": [],
   "source": [
    "valid_dataset = ISLES_dataset_valid('ISLES-2022/')"
   ]
  },
  {
   "cell_type": "code",
   "execution_count": 53,
   "id": "25f0f42a",
   "metadata": {},
   "outputs": [],
   "source": [
    "valid_loader = DataLoader(valid_dataset, batch_size=1)"
   ]
  },
  {
   "cell_type": "markdown",
   "id": "beadef0d",
   "metadata": {},
   "source": [
    "## Unet"
   ]
  },
  {
   "cell_type": "code",
   "execution_count": 22,
   "id": "e295534c",
   "metadata": {},
   "outputs": [],
   "source": [
    "class UNet(nn.Module):\n",
    "\n",
    "    def __init__(self, num_classes):\n",
    "        super(UNet, self).__init__()\n",
    "        self.num_classes = num_classes\n",
    "\n",
    "        # Image reduction\n",
    "        self.down_conv_11 = self.conv_block(in_channels=1,\n",
    "                                            out_channels=64)\n",
    "        self.down_conv_12 = nn.MaxPool2d(kernel_size=2,\n",
    "                                         stride=2)\n",
    "        self.down_conv_21 = self.conv_block(in_channels=64,\n",
    "                                            out_channels=128)\n",
    "        self.down_conv_22 = nn.MaxPool2d(kernel_size=2,\n",
    "                                         stride=2)\n",
    "        self.down_conv_31 = self.conv_block(in_channels=128,\n",
    "                                            out_channels=256)\n",
    "        self.down_conv_32 = nn.MaxPool2d(kernel_size=2,\n",
    "                                         stride=2)\n",
    "        self.down_conv_41 = self.conv_block(in_channels=256,\n",
    "                                            out_channels=512)\n",
    "        self.down_conv_42 = nn.MaxPool2d(kernel_size=2,\n",
    "                                         stride=2)\n",
    "        \n",
    "        self.middle = self.conv_block(in_channels=512, out_channels=1024)\n",
    "        \n",
    "        \n",
    "        \n",
    "        # image enhancement\n",
    "        self.up_conv_11 = nn.ConvTranspose2d(in_channels=1024, out_channels=512,\n",
    "                                             kernel_size=3, stride=2,\n",
    "                                             padding=1, output_padding=1)\n",
    "        self.up_conv_12 = self.conv_block(in_channels=1024,\n",
    "                                          out_channels=512)\n",
    "        self.up_conv_21 = nn.ConvTranspose2d(in_channels=512, out_channels=256,\n",
    "                                             kernel_size=3, stride=2,\n",
    "                                             padding=1, output_padding=1)\n",
    "        self.up_conv_22 = self.conv_block(in_channels=512,\n",
    "                                          out_channels=256)\n",
    "        self.up_conv_31 = nn.ConvTranspose2d(in_channels=256, out_channels=128,\n",
    "                                             kernel_size=3, stride=2,\n",
    "                                             padding=1, output_padding=1)\n",
    "        self.up_conv_32 = self.conv_block(in_channels=256,\n",
    "                                          out_channels=128)\n",
    "        self.up_conv_41 = nn.ConvTranspose2d(in_channels=128, out_channels=64,\n",
    "                                             kernel_size=3, stride=2,\n",
    "                                             padding=1, output_padding=1)\n",
    "        self.up_conv_42 = self.conv_block(in_channels=128,\n",
    "                                          out_channels=64)\n",
    "        \n",
    "        self.output = nn.Conv2d(in_channels=64, out_channels=num_classes,\n",
    "                                kernel_size=3, stride=1,\n",
    "                                padding=1)\n",
    "#         self.softmax = nn.Softmax(dim=1)\n",
    "    \n",
    "    @staticmethod\n",
    "    def conv_block(in_channels, out_channels):\n",
    "        block = nn.Sequential(\n",
    "            nn.Conv2d(in_channels=in_channels,\n",
    "                      out_channels=out_channels,\n",
    "                      kernel_size=3,\n",
    "                      stride=1,\n",
    "                      padding=1),\n",
    "            nn.ReLU(),\n",
    "            nn.BatchNorm2d(num_features=out_channels),\n",
    "            nn.Dropout2d(p=0.3),\n",
    "            nn.Conv2d(in_channels=out_channels,\n",
    "                      out_channels=out_channels,\n",
    "                      kernel_size=3,\n",
    "                      stride=1,\n",
    "                      padding=1),\n",
    "            nn.ReLU(),\n",
    "            nn.BatchNorm2d(num_features=out_channels),\n",
    "            nn.Dropout2d(p=0.3))\n",
    "        return block\n",
    "    \n",
    "    @staticmethod\n",
    "    def crop_tensor(target_tensor, tensor):\n",
    "        target_size = target_tensor.size()[2]\n",
    "        tensor_size = tensor.size()[2]\n",
    "        delta = tensor_size - target_size\n",
    "        delta = delta // 2\n",
    "\n",
    "        return tensor[:,:, delta:tensor_size-delta, delta:tensor_size-delta]\n",
    "\n",
    "\n",
    "    def forward(self, X):\n",
    "        # left\n",
    "        x1 = self.down_conv_11(X) # [-1, 64, 256, 256]\n",
    "        x2 = self.down_conv_12(x1) # [-1, 64, 128, 128]\n",
    "        x3 = self.down_conv_21(x2) # [-1, 128, 128, 128]\n",
    "        x4 = self.down_conv_22(x3) # [-1, 128, 64, 64]\n",
    "        x5 = self.down_conv_31(x4) # [-1, 256, 64, 64]\n",
    "        x6 = self.down_conv_32(x5) # [-1, 256, 32, 32]\n",
    "        x7 = self.down_conv_41(x6) # [-1, 512, 32, 32]\n",
    "        x8 = self.down_conv_42(x7) # [-1, 512, 16, 16]\n",
    "        \n",
    "        middle_out = self.middle(x8) # [-1, 1024, 16, 16]\n",
    "\n",
    "        # right\n",
    "        x = self.up_conv_11(middle_out) # [-1, 512, 32, 32]\n",
    "        y = self.crop_tensor(x, x7)\n",
    "        x = self.up_conv_12(torch.cat((x, y), dim=1)) # [-1, 1024, 32, 32] -> [-1, 512, 32, 32]\n",
    "        \n",
    "        x = self.up_conv_21(x) # [-1, 256, 64, 64]\n",
    "        y = self.crop_tensor(x, x5)\n",
    "        x = self.up_conv_22(torch.cat((x, y), dim=1)) # [-1, 512, 64, 64] -> [-1, 256, 64, 64]\n",
    "        \n",
    "        x = self.up_conv_31(x) # [-1, 128, 128, 128]\n",
    "        y = self.crop_tensor(x, x3)\n",
    "        x = self.up_conv_32(torch.cat((x, y), dim=1)) # [-1, 256, 128, 128] -> [-1, 128, 128, 128]\n",
    "        \n",
    "        x = self.up_conv_41(x) # [-1, 64, 256, 256]\n",
    "        y = self.crop_tensor(x, x1)\n",
    "        x = self.up_conv_42(torch.cat((x, y), dim=1)) # [-1, 128, 256, 256] -> [-1, 64, 256, 256]\n",
    "        \n",
    "        output = self.output(x) # [-1, num_classes, 256, 256]\n",
    "#         output = self.softmax(output)\n",
    "\n",
    "        return output"
   ]
  },
  {
   "cell_type": "code",
   "execution_count": 23,
   "id": "f2091724",
   "metadata": {},
   "outputs": [
    {
     "data": {
      "text/plain": [
       "device(type='cuda', index=0)"
      ]
     },
     "execution_count": 23,
     "metadata": {},
     "output_type": "execute_result"
    }
   ],
   "source": [
    "device = torch.device('cuda:0' if torch.cuda.is_available() else 'cpu')\n",
    "device"
   ]
  },
  {
   "cell_type": "code",
   "execution_count": 24,
   "id": "210e694a",
   "metadata": {},
   "outputs": [],
   "source": [
    "Umodel = UNet(num_classes=1).to(device)"
   ]
  },
  {
   "cell_type": "markdown",
   "id": "4649a9c7",
   "metadata": {},
   "source": [
    "# Model train"
   ]
  },
  {
   "cell_type": "code",
   "execution_count": 41,
   "id": "c5c119d3",
   "metadata": {},
   "outputs": [],
   "source": [
    "\n",
    "optimizer = torch.optim.Adam(Umodel.parameters())"
   ]
  },
  {
   "cell_type": "code",
   "execution_count": 42,
   "id": "d230539c",
   "metadata": {},
   "outputs": [],
   "source": [
    "\n",
    "criterion = smp.losses.DiceLoss(smp.losses.BINARY_MODE, from_logits=True)"
   ]
  },
  {
   "cell_type": "code",
   "execution_count": 56,
   "id": "53e9289e",
   "metadata": {},
   "outputs": [],
   "source": [
    "# The model was trained on 150 epochs, so not to show all of them on GitHub, I will show only 5 of them\n",
    "Umodel = torch.load('best_model.pth')"
   ]
  },
  {
   "cell_type": "code",
   "execution_count": 55,
   "id": "8b3ae7be",
   "metadata": {},
   "outputs": [
    {
     "name": "stdout",
     "output_type": "stream",
     "text": [
      "Epoch1 - train_loss: 0.1175 | valid_loss:0.1777\n",
      "Spend time for 1 epoch: 41.94370174407959 sec\n",
      "Model saved\n",
      "Epoch2 - train_loss: 0.1192 | valid_loss:0.1761\n",
      "Model saved\n",
      "Epoch3 - train_loss: 0.1145 | valid_loss:0.1765\n",
      "Epoch4 - train_loss: 0.1113 | valid_loss:0.1777\n",
      "Epoch5 - train_loss: 0.1083 | valid_loss:0.1764\n"
     ]
    }
   ],
   "source": [
    "epochs = 5\n",
    "\n",
    "\n",
    "epoch_losses = []\n",
    "best_valid_loss = float('inf')\n",
    "for epoch in range(epochs):\n",
    "    start_time = time.time()\n",
    "    epoch_loss = []\n",
    "    valid_loss = []\n",
    "    Umodel.train() \n",
    "    for batch_idx, (data, labels) in enumerate(train_loader):\n",
    "        \n",
    "        data, labels = data.float().to(device), labels.float().to(device)        \n",
    "        \n",
    "        optimizer.zero_grad()\n",
    "        outputs = Umodel(data)                \n",
    "        \n",
    "        \n",
    "        loss = criterion(outputs, labels)\n",
    "        loss.backward()\n",
    "        optimizer.step()\n",
    "        \n",
    "        epoch_loss.append(loss.item())\n",
    "        \n",
    "    Umodel.eval()\n",
    "    for batch_idx, (data, labels) in enumerate(valid_loader): ###########\n",
    "        \n",
    "        data, labels = data.float().to(device), labels.float().to(device)\n",
    "        outputs = Umodel(data)\n",
    "        loss = criterion(outputs, labels)\n",
    "        valid_loss.append(loss.item())\n",
    "        \n",
    "    print(f'Epoch{epoch+1} - train_loss: {np.mean(epoch_loss):.4f} | valid_loss:{np.mean(valid_loss):.4f}')\n",
    "    end_time = time.time()\n",
    "    if epoch ==0:\n",
    "        print(f'Spend time for 1 epoch: {end_time - start_time} sec')\n",
    "        \n",
    "    if np.mean(valid_loss) < best_valid_loss:\n",
    "        best_valid_loss = np.mean(valid_loss)\n",
    "        torch.save(Umodel, 'best_model.pth')\n",
    "        print('Model saved')\n",
    "        \n",
    "    epoch_losses.append(epoch_loss)"
   ]
  },
  {
   "cell_type": "markdown",
   "id": "761889c2",
   "metadata": {},
   "source": [
    "# Inference"
   ]
  },
  {
   "cell_type": "code",
   "execution_count": 69,
   "id": "5b3a4d2a",
   "metadata": {},
   "outputs": [],
   "source": [
    "model = torch.load('best_model.pth')"
   ]
  },
  {
   "cell_type": "code",
   "execution_count": 70,
   "id": "02a9d311",
   "metadata": {},
   "outputs": [],
   "source": [
    " def make_path_right(path):\n",
    "        path = path.replace('\\\\','/')\n",
    "        return path\n",
    "    \n",
    "def NormalizeTensor(data):\n",
    "    diff = torch.max(data) - torch.min(data)\n",
    "    if diff==0:\n",
    "        return torch.zeros_like(data)\n",
    "    return (data - torch.min(data)) / (torch.max(data) - torch.min(data))\n",
    "\n",
    "isles_data_dir = 'ISLES-2022/'\n",
    "example_case = 231\n",
    "\n",
    "# images paths\n",
    "dwi_path = os.path.join(isles_data_dir, 'rawdata', 'sub-strokecase{}'.format('%04d' %example_case), 'ses-0001','dwi',\n",
    "                       'sub-strokecase{}_ses-0001_dwi.nii.gz'.format(\"%04d\" % example_case))\n",
    "dwi_path = make_path_right(dwi_path)\n",
    "\n",
    "mask_path = dwi_path.replace('rawdata', 'derivatives').replace('dwi', 'msk').replace('msk', '', 1)\n",
    "\n",
    "# Load image data.\n",
    "dwi_image = nib.load(dwi_path).get_fdata().transpose(2, 0, 1)\n",
    "\n",
    "mask_image = nib.load(mask_path).get_fdata().transpose(2, 0, 1)"
   ]
  },
  {
   "cell_type": "code",
   "execution_count": 71,
   "id": "627f6acc",
   "metadata": {},
   "outputs": [],
   "source": [
    "image = torch.Tensor(dwi_image)\n",
    "\n",
    "i=0\n",
    "for s in image:\n",
    "    image[i] = NormalizeTensor(s)\n",
    "    i+=1\n",
    "    \n",
    "resize = transforms.Resize(size=(112, 112), antialias=None)\n",
    "image = resize(image)\n",
    "image =  image.unsqueeze(1)\n",
    "shape_of_file = image.shape[0]\n",
    "result = np.zeros((shape_of_file, 1, 112, 112))"
   ]
  },
  {
   "cell_type": "code",
   "execution_count": 72,
   "id": "587906bb",
   "metadata": {},
   "outputs": [
    {
     "name": "stdout",
     "output_type": "stream",
     "text": [
      "CPU times: total: 625 ms\n",
      "Wall time: 605 ms\n"
     ]
    }
   ],
   "source": [
    "%%time\n",
    "i=0\n",
    "for m in image:\n",
    "    m = m.unsqueeze(0)\n",
    "    m = m.float()\n",
    "    output = model(m.to(device))\n",
    "    preds = torch.sigmoid(output) > 0.5\n",
    "    result[i] = preds.detach().cpu().numpy()\n",
    "    i+=1"
   ]
  },
  {
   "cell_type": "markdown",
   "id": "84d06b9c",
   "metadata": {},
   "source": [
    "# Result"
   ]
  },
  {
   "cell_type": "code",
   "execution_count": 75,
   "id": "17e4c236",
   "metadata": {},
   "outputs": [],
   "source": [
    "from IPython.display import HTML"
   ]
  },
  {
   "cell_type": "markdown",
   "id": "01497365",
   "metadata": {},
   "source": [
    "HTML(\"\"\"\n",
    "<div style=\"display:flex\">\n",
    "    <div style=\"flex:1;padding-right:5px\">\n",
    "        <img src=\"prediction.gif\">\n",
    "        <div style=\"text-align:center\">Prediction</div>\n",
    "    </div>\n",
    "    <div style=\"flex:1;padding-left:5px\">\n",
    "        <img src=\"Ground_truth.gif\">\n",
    "        <div style=\"text-align:center\">Ground Truth</div>\n",
    "    </div>\n",
    "</div>\n",
    "\"\"\")"
   ]
  },
  {
   "cell_type": "code",
   "execution_count": null,
   "id": "f3f2d805",
   "metadata": {},
   "outputs": [],
   "source": []
  }
 ],
 "metadata": {
  "kernelspec": {
   "display_name": "Python 3 (ipykernel)",
   "language": "python",
   "name": "python3"
  },
  "language_info": {
   "codemirror_mode": {
    "name": "ipython",
    "version": 3
   },
   "file_extension": ".py",
   "mimetype": "text/x-python",
   "name": "python",
   "nbconvert_exporter": "python",
   "pygments_lexer": "ipython3",
   "version": "3.10.9"
  }
 },
 "nbformat": 4,
 "nbformat_minor": 5
}
